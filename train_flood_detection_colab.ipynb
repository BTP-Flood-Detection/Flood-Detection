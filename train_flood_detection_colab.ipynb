{
  "cells": [
    {
      "cell_type": "markdown",
      "metadata": {},
      "source": [
        "# Train Flood Detection Models (Google Colab)\n",
        "\n",
        "This notebook trains ResNet-50 UNet on your flood dataset.\n",
        "\n",
        "**What you need**: Upload your downloaded data to Google Drive\n"
      ]
    },
    {
      "cell_type": "markdown",
      "metadata": {},
      "source": [
        "## Step 1: Mount Google Drive and Upload Data\n"
      ]
    },
    {
      "cell_type": "code",
      "execution_count": null,
      "metadata": {},
      "outputs": [],
      "source": [
        "from google.colab import drive\n",
        "drive.mount('/content/drive')\n",
        "\n",
        "# Navigate to your data\n",
        "!cp -r /content/drive/MyDrive/Flood\\ detection/data /content/flood_detection/\n",
        "\n",
        "print(\"✅ Data mounted from Google Drive\")\n"
      ]
    },
    {
      "cell_type": "markdown",
      "metadata": {},
      "source": [
        "## Step 2: Install Dependencies\n"
      ]
    },
    {
      "cell_type": "code",
      "execution_count": null,
      "metadata": {},
      "outputs": [],
      "source": [
        "# Install PyTorch with CUDA support (for GPU)\n",
        "!pip install torch torchvision timm albumentations tqdm pyyaml segmentation-models-pytorch opencv-python rasterio\n",
        "\n",
        "# Upload your code files\n",
        "print(\"📂 Upload your src/, configs/, and app/ folders using the file browser\")\n",
        "print(\"Then continue to next cell\")\n"
      ]
    },
    {
      "cell_type": "markdown",
      "metadata": {},
      "source": [
        "## Step 3: Start Training ResNet Model\n"
      ]
    },
    {
      "cell_type": "code",
      "execution_count": null,
      "metadata": {},
      "outputs": [],
      "source": [
        "# Check device\n",
        "import torch\n",
        "print(f\"Device: {'GPU' if torch.cuda.is_available() else 'CPU'}\")\n",
        "print(f\"CUDA available: {torch.cuda.is_available()}\")\n",
        "\n",
        "# Check data\n",
        "!ls /content/flood_detection/data/raw/S1 | head -5\n",
        "!ls /content/flood_detection/data/raw/labels | head -5\n"
      ]
    },
    {
      "cell_type": "code",
      "execution_count": null,
      "metadata": {},
      "outputs": [],
      "source": [
        "# Train ResNet model\n",
        "!cd /content/flood_detection && python src/training/train.py --model resnet\n",
        "\n",
        "print(\"\\n✅ Training complete!\")\n",
        "print(\"Model saved to: models/resnet_best.pt\")\n"
      ]
    },
    {
      "cell_type": "markdown",
      "metadata": {},
      "source": [
        "## Step 4: Download Trained Models\n"
      ]
    },
    {
      "cell_type": "code",
      "execution_count": null,
      "metadata": {},
      "outputs": [],
      "source": [
        "# Download trained models\n",
        "from google.colab import files\n",
        "\n",
        "# Download model\n",
        "files.download('/content/flood_detection/models/resnet_best.pt')\n",
        "\n",
        "print(\"✅ Model downloaded!\")\n",
        "print(\"Copy to: C:\\\\Users\\\\Nishant Raj\\\\Desktop\\\\Flood detection\\\\models\\\\\")\n",
        "print(\"Then run: streamlit run app/streamlit_app.py\")\n"
      ]
    }
  ],
  "metadata": {
    "language_info": {
      "name": "python"
    }
  },
  "nbformat": 4,
  "nbformat_minor": 2
}

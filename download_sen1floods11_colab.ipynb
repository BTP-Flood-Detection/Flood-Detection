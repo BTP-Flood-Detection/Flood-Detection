{
  "cells": [
    {
      "cell_type": "markdown",
      "metadata": {},
      "source": [
        "# Download Sen1Floods11 Dataset (Small Subset)\n",
        "\n",
        "This notebook downloads ~1-2 GB of flood detection data for training.\n",
        "\n",
        "**Data Source**: [Sen1Floods11](https://github.com/cloudtostreet/Sen1Floods11) - Sentinel-1 flood dataset\n"
      ]
    },
    {
      "cell_type": "markdown",
      "metadata": {},
      "source": [
        "## Step 1: Install Required Packages\n"
      ]
    },
    {
      "cell_type": "code",
      "execution_count": null,
      "metadata": {},
      "outputs": [
        {
          "ename": "",
          "evalue": "",
          "output_type": "error",
          "traceback": [
            "\u001b[1;31mRunning cells with 'Python 3.14.0' requires the ipykernel package.\n",
            "\u001b[1;31m<a href='command:jupyter.createPythonEnvAndSelectController'>Create a Python Environment</a> with the required packages.\n",
            "\u001b[1;31mOr install 'ipykernel' using the command: '\"c:/Users/Nishant Raj/AppData/Local/Python/pythoncore-3.14-64/python.exe\" -m pip install ipykernel -U --user --force-reinstall'"
          ]
        }
      ],
      "source": [
        "# Install packages\n",
        "!pip install -q earthengine-api geemap geopandas pandas\n",
        "\n",
        "print(\"✅ Packages installed\")\n"
      ]
    },
    {
      "cell_type": "markdown",
      "metadata": {},
      "source": [
        "## Step 2: Setup Google Cloud Authentication\n"
      ]
    },
    {
      "cell_type": "code",
      "execution_count": null,
      "metadata": {},
      "outputs": [],
      "source": [
        "from google.colab import auth\n",
        "auth.authenticate_user()\n",
        "\n",
        "print(\"✅ Authentication complete\")\n",
        "print(\"\\nNow run the download cells below...\")\n"
      ]
    },
    {
      "cell_type": "markdown",
      "metadata": {},
      "source": [
        "## Step 3: Create Directories and Download Metadata\n"
      ]
    },
    {
      "cell_type": "code",
      "execution_count": null,
      "metadata": {},
      "outputs": [],
      "source": [
        "# Create directory structure\n",
        "!mkdir -p /content/flood_data/S1\n",
        "!mkdir -p /content/flood_data/S2\n",
        "!mkdir -p /content/flood_data/labels\n",
        "!mkdir -p /content/flood_data/metadata\n",
        "\n",
        "print(\"✅ Directories created\")\n",
        "\n",
        "# Download CSV metadata files\n",
        "!gsutil -m cp gs://sen1floods11/v1.1/splits/flood_handlabeled/flood_train_data.csv /content/flood_data/metadata/\n",
        "!gsutil -m cp gs://sen1floods11/v1.1/splits/flood_handlabeled/flood_valid_data.csv /content/flood_data/metadata/\n",
        "!gsutil -m cp gs://sen1floods11/v1.1/splits/flood_handlabeled/flood_test_data.csv /content/flood_data/metadata/\n",
        "\n",
        "print(\"✅ Metadata files downloaded\")\n"
      ]
    },
    {
      "cell_type": "markdown",
      "metadata": {},
      "source": [
        "## Step 4: Read Metadata and Select Small Subset (15 samples)\n"
      ]
    },
    {
      "cell_type": "code",
      "execution_count": null,
      "metadata": {},
      "outputs": [],
      "source": [
        "import pandas as pd\n",
        "import os\n",
        "\n",
        "# Read the training data CSV\n",
        "train_df = pd.read_csv('/content/flood_data/metadata/flood_train_data.csv')\n",
        "\n",
        "print(f\"📊 Total samples available: {len(train_df)}\")\n",
        "print(f\"Columns: {list(train_df.columns)}\")\n",
        "print(\"\\nFirst few rows:\")\n",
        "print(train_df.head())\n",
        "\n",
        "# Select first 15 samples for small dataset (~1-2 GB)\n",
        "subset_df = train_df.head(15)\n",
        "\n",
        "print(f\"\\n✅ Selected {len(subset_df)} samples for download\")\n",
        "print(\"\\nFiles to download:\")\n",
        "for idx, row in subset_df.iterrows():\n",
        "    print(f\"  {idx+1}. {row.iloc[0] if len(row) > 0 else 'N/A'}\")\n"
      ]
    },
    {
      "cell_type": "markdown",
      "metadata": {},
      "source": [
        "## Step 5: Download Selected S1 Images and Labels\n"
      ]
    },
    {
      "cell_type": "code",
      "execution_count": null,
      "metadata": {},
      "outputs": [],
      "source": [
        "print(f\"📥 Downloading {len(subset_df)} flood events...\")\n",
        "print(\"This may take 10-15 minutes...\\n\")\n",
        "\n",
        "# Download S1 images\n",
        "print(\"Downloading S1 SAR images...\")\n",
        "!gsutil -m rsync -r gs://sen1floods11/v1.1/data/flood_events/HandLabeled/S1Hand /content/flood_data/S1\n",
        "\n",
        "print(\"\\nDownloading flood labels...\")\n",
        "!gsutil -m rsync -r gs://sen1floods11/v1.1/data/flood_events/HandLabeled/LabelHand /content/flood_data/labels\n",
        "\n",
        "print(\"\\n✅ Download complete!\")\n",
        "!du -sh /content/flood_data\n"
      ]
    },
    {
      "cell_type": "markdown",
      "metadata": {},
      "source": [
        "## Step 6: Package and Download to Your Computer\n"
      ]
    },
    {
      "cell_type": "code",
      "execution_count": null,
      "metadata": {},
      "outputs": [],
      "source": [
        "# Package the dataset\n",
        "!zip -r /content/flood_dataset.zip /content/flood_data/\n",
        "\n",
        "# Check size\n",
        "print(\"📦 Dataset size:\")\n",
        "!du -sh /content/flood_dataset.zip\n",
        "print(\"\\n📁 Contents:\")\n",
        "!ls -lh /content/flood_data/S1 | head -5\n",
        "!ls -lh /content/flood_data/labels | head -5\n"
      ]
    },
    {
      "cell_type": "code",
      "execution_count": null,
      "metadata": {},
      "outputs": [],
      "source": [
        "# Download the ZIP file to your computer\n",
        "from google.colab import files\n",
        "\n",
        "files.download('/content/flood_dataset.zip')\n",
        "\n",
        "print(\"✅ Download started!\")\n",
        "print(\"\\nAfter downloading:\")\n",
        "print(\"1. Extract flood_dataset.zip\")\n",
        "print(\"2. Copy S1 images to: C:\\\\Users\\\\Nishant Raj\\\\Desktop\\\\Flood detection\\\\data\\\\raw\\\\S1\\\\\")\n",
        "print(\"3. Copy labels to: C:\\\\Users\\\\Nishant Raj\\\\Desktop\\\\Flood detection\\\\data\\\\raw\\\\labels\\\\\")\n",
        "print(\"4. Run: python src/training/train.py --model resnet\")\n"
      ]
    }
  ],
  "metadata": {
    "kernelspec": {
      "display_name": "Python 3",
      "language": "python",
      "name": "python3"
    },
    "language_info": {
      "name": "python",
      "version": "3.14.0"
    }
  },
  "nbformat": 4,
  "nbformat_minor": 2
}
